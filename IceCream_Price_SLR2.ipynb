{
 "cells": [
  {
   "cell_type": "markdown",
   "id": "9d0175df",
   "metadata": {},
   "source": [
    "### Problem Statement:\n",
    "The objective of the iceCream dataset is to predict Revenue. The datasets of one predictor (independent) variable and one target variable (charges)\n",
    "\n",
    "### Dataset Information:\n",
    "1) Temperature: Temperature is a Primary Beneficiary      \n",
    "2) Revenue: Individual costs based on seasonal variations"
   ]
  },
  {
   "cell_type": "markdown",
   "id": "76909d6a",
   "metadata": {},
   "source": [
    "### Step 1: Importing Libraries like Numpy, Pandas, Matplotlib, Seaborn and Scikit learn(Sklearn)"
   ]
  },
  {
   "cell_type": "code",
   "execution_count": 1,
   "id": "162760d7",
   "metadata": {},
   "outputs": [],
   "source": [
    "# Numpy \n",
    "import numpy as np\n",
    "# Pandas \n",
    "import pandas as pd\n",
    "# Matplotlib\n",
    "import matplotlib.pyplot as plt\n",
    "# Seaborn \n",
    "import seaborn as sns\n",
    "# Warning \n",
    "import warnings\n",
    "warnings.filterwarnings('ignore')"
   ]
  },
  {
   "cell_type": "markdown",
   "id": "ebff2d24",
   "metadata": {},
   "source": [
    "### Step 2: Load the Dataset"
   ]
  },
  {
   "cell_type": "code",
   "execution_count": 2,
   "id": "6bd2f07a",
   "metadata": {},
   "outputs": [],
   "source": [
    "# Loading insurance dataset\n",
    "df = pd.read_csv(r\"C:\\Users\\haric\\OneDrive\\Documents\\ML\\Linear Regression\\Simple Linear Regression\\Projects\\DataSet's\\IceCreamData.csv\")"
   ]
  },
  {
   "cell_type": "code",
   "execution_count": 3,
   "id": "6aeb86d8",
   "metadata": {},
   "outputs": [
    {
     "data": {
      "text/html": [
       "<div>\n",
       "<style scoped>\n",
       "    .dataframe tbody tr th:only-of-type {\n",
       "        vertical-align: middle;\n",
       "    }\n",
       "\n",
       "    .dataframe tbody tr th {\n",
       "        vertical-align: top;\n",
       "    }\n",
       "\n",
       "    .dataframe thead th {\n",
       "        text-align: right;\n",
       "    }\n",
       "</style>\n",
       "<table border=\"1\" class=\"dataframe\">\n",
       "  <thead>\n",
       "    <tr style=\"text-align: right;\">\n",
       "      <th></th>\n",
       "      <th>Temperature</th>\n",
       "      <th>Revenue</th>\n",
       "    </tr>\n",
       "  </thead>\n",
       "  <tbody>\n",
       "    <tr>\n",
       "      <th>0</th>\n",
       "      <td>24.566884</td>\n",
       "      <td>534.799028</td>\n",
       "    </tr>\n",
       "    <tr>\n",
       "      <th>1</th>\n",
       "      <td>26.005191</td>\n",
       "      <td>625.190122</td>\n",
       "    </tr>\n",
       "    <tr>\n",
       "      <th>2</th>\n",
       "      <td>27.790554</td>\n",
       "      <td>660.632289</td>\n",
       "    </tr>\n",
       "    <tr>\n",
       "      <th>3</th>\n",
       "      <td>20.595335</td>\n",
       "      <td>487.706960</td>\n",
       "    </tr>\n",
       "    <tr>\n",
       "      <th>4</th>\n",
       "      <td>11.503498</td>\n",
       "      <td>316.240194</td>\n",
       "    </tr>\n",
       "  </tbody>\n",
       "</table>\n",
       "</div>"
      ],
      "text/plain": [
       "   Temperature     Revenue\n",
       "0    24.566884  534.799028\n",
       "1    26.005191  625.190122\n",
       "2    27.790554  660.632289\n",
       "3    20.595335  487.706960\n",
       "4    11.503498  316.240194"
      ]
     },
     "execution_count": 3,
     "metadata": {},
     "output_type": "execute_result"
    }
   ],
   "source": [
    "df.head()"
   ]
  },
  {
   "cell_type": "markdown",
   "id": "5a39ae55",
   "metadata": {},
   "source": [
    "### Step 3: Exploratory Data Analysis"
   ]
  },
  {
   "cell_type": "markdown",
   "id": "05bfe8ab",
   "metadata": {},
   "source": [
    "Exploratory Data Analysis (EDA), also known as Data Exploration, it is a step in the Data Analysis Process, where a number of techniques are used to better understand the dataset being used.\n",
    "\n",
    "In this step, we will perform the below operations:\n",
    "\n",
    "### 3.1) understanding Your Variables\n",
    "        3.1.1) Head of the dataset\n",
    "        3.1.2) The shape of the dataset\n",
    "        3.1.3) List types of all columns\n",
    "        3.1.4) Info of the dataset\n",
    "        3.1.5) Summary of the dataset\n",
    "        \n",
    "### 3.2) Data Cleaning\n",
    "        3.2.1) Checking the Duplicates\n",
    "        3.2.2) Check the Null values"
   ]
  },
  {
   "cell_type": "markdown",
   "id": "0b5cbb95",
   "metadata": {},
   "source": [
    "### 3.1.1) Head of the Dataset\n",
    "\n",
    "The head() function will tell you the top records in the dataset. By default, python shows you only the top 5 records.\n",
    "\n",
    "This head(n) function returns the first n rows for the object based on position. It is useful for quickly testing if your object has the right type of data in it. By default it will show 5 rows."
   ]
  },
  {
   "cell_type": "code",
   "execution_count": 8,
   "id": "c79e9e32",
   "metadata": {},
   "outputs": [
    {
     "data": {
      "text/html": [
       "<div>\n",
       "<style scoped>\n",
       "    .dataframe tbody tr th:only-of-type {\n",
       "        vertical-align: middle;\n",
       "    }\n",
       "\n",
       "    .dataframe tbody tr th {\n",
       "        vertical-align: top;\n",
       "    }\n",
       "\n",
       "    .dataframe thead th {\n",
       "        text-align: right;\n",
       "    }\n",
       "</style>\n",
       "<table border=\"1\" class=\"dataframe\">\n",
       "  <thead>\n",
       "    <tr style=\"text-align: right;\">\n",
       "      <th></th>\n",
       "      <th>Temperature</th>\n",
       "      <th>Revenue</th>\n",
       "    </tr>\n",
       "  </thead>\n",
       "  <tbody>\n",
       "    <tr>\n",
       "      <th>0</th>\n",
       "      <td>24.566884</td>\n",
       "      <td>534.799028</td>\n",
       "    </tr>\n",
       "    <tr>\n",
       "      <th>1</th>\n",
       "      <td>26.005191</td>\n",
       "      <td>625.190122</td>\n",
       "    </tr>\n",
       "    <tr>\n",
       "      <th>2</th>\n",
       "      <td>27.790554</td>\n",
       "      <td>660.632289</td>\n",
       "    </tr>\n",
       "    <tr>\n",
       "      <th>3</th>\n",
       "      <td>20.595335</td>\n",
       "      <td>487.706960</td>\n",
       "    </tr>\n",
       "    <tr>\n",
       "      <th>4</th>\n",
       "      <td>11.503498</td>\n",
       "      <td>316.240194</td>\n",
       "    </tr>\n",
       "  </tbody>\n",
       "</table>\n",
       "</div>"
      ],
      "text/plain": [
       "   Temperature     Revenue\n",
       "0    24.566884  534.799028\n",
       "1    26.005191  625.190122\n",
       "2    27.790554  660.632289\n",
       "3    20.595335  487.706960\n",
       "4    11.503498  316.240194"
      ]
     },
     "execution_count": 8,
     "metadata": {},
     "output_type": "execute_result"
    }
   ],
   "source": [
    "# Display first five records of data\n",
    "df.head()"
   ]
  },
  {
   "cell_type": "code",
   "execution_count": 9,
   "id": "0a273448",
   "metadata": {},
   "outputs": [
    {
     "data": {
      "text/html": [
       "<div>\n",
       "<style scoped>\n",
       "    .dataframe tbody tr th:only-of-type {\n",
       "        vertical-align: middle;\n",
       "    }\n",
       "\n",
       "    .dataframe tbody tr th {\n",
       "        vertical-align: top;\n",
       "    }\n",
       "\n",
       "    .dataframe thead th {\n",
       "        text-align: right;\n",
       "    }\n",
       "</style>\n",
       "<table border=\"1\" class=\"dataframe\">\n",
       "  <thead>\n",
       "    <tr style=\"text-align: right;\">\n",
       "      <th></th>\n",
       "      <th>Temperature</th>\n",
       "      <th>Revenue</th>\n",
       "    </tr>\n",
       "  </thead>\n",
       "  <tbody>\n",
       "    <tr>\n",
       "      <th>495</th>\n",
       "      <td>22.274899</td>\n",
       "      <td>524.746364</td>\n",
       "    </tr>\n",
       "    <tr>\n",
       "      <th>496</th>\n",
       "      <td>32.893092</td>\n",
       "      <td>755.818399</td>\n",
       "    </tr>\n",
       "    <tr>\n",
       "      <th>497</th>\n",
       "      <td>12.588157</td>\n",
       "      <td>306.090719</td>\n",
       "    </tr>\n",
       "    <tr>\n",
       "      <th>498</th>\n",
       "      <td>22.362402</td>\n",
       "      <td>566.217304</td>\n",
       "    </tr>\n",
       "    <tr>\n",
       "      <th>499</th>\n",
       "      <td>28.957736</td>\n",
       "      <td>655.660388</td>\n",
       "    </tr>\n",
       "  </tbody>\n",
       "</table>\n",
       "</div>"
      ],
      "text/plain": [
       "     Temperature     Revenue\n",
       "495    22.274899  524.746364\n",
       "496    32.893092  755.818399\n",
       "497    12.588157  306.090719\n",
       "498    22.362402  566.217304\n",
       "499    28.957736  655.660388"
      ]
     },
     "execution_count": 9,
     "metadata": {},
     "output_type": "execute_result"
    }
   ],
   "source": [
    "# Display last five records of the data\n",
    "df.tail()"
   ]
  },
  {
   "cell_type": "markdown",
   "id": "df661c25",
   "metadata": {},
   "source": [
    "### 3.1.2) The Shape of the dataset\n",
    "This shape() function gives us the **number of rows** and **columns** of the dataset."
   ]
  },
  {
   "cell_type": "code",
   "execution_count": 11,
   "id": "8f31b0bf",
   "metadata": {},
   "outputs": [
    {
     "data": {
      "text/plain": [
       "(500, 2)"
      ]
     },
     "execution_count": 11,
     "metadata": {},
     "output_type": "execute_result"
    }
   ],
   "source": [
    "df.shape"
   ]
  },
  {
   "cell_type": "markdown",
   "id": "abc59fdc",
   "metadata": {},
   "source": [
    "No of Rows = 500       \n",
    "No of Columns = 2"
   ]
  },
  {
   "cell_type": "markdown",
   "id": "a6ceb0f8",
   "metadata": {},
   "source": [
    "### 3.1.3) List types of all columns \n",
    "Using df.dtypes, we get the list of types of all the columns in our dataset."
   ]
  },
  {
   "cell_type": "code",
   "execution_count": 13,
   "id": "5ae1a206",
   "metadata": {},
   "outputs": [
    {
     "data": {
      "text/plain": [
       "Temperature    float64\n",
       "Revenue        float64\n",
       "dtype: object"
      ]
     },
     "execution_count": 13,
     "metadata": {},
     "output_type": "execute_result"
    }
   ],
   "source": [
    "df.dtypes"
   ]
  },
  {
   "cell_type": "markdown",
   "id": "eb274fcb",
   "metadata": {},
   "source": [
    "### 3.1.4) Info of the dataset\n",
    "info() is used to check the information about the data and the datatypes of each respective attribute and also gives you the count."
   ]
  },
  {
   "cell_type": "code",
   "execution_count": 14,
   "id": "a5e16716",
   "metadata": {},
   "outputs": [
    {
     "name": "stdout",
     "output_type": "stream",
     "text": [
      "<class 'pandas.core.frame.DataFrame'>\n",
      "RangeIndex: 500 entries, 0 to 499\n",
      "Data columns (total 2 columns):\n",
      " #   Column       Non-Null Count  Dtype  \n",
      "---  ------       --------------  -----  \n",
      " 0   Temperature  500 non-null    float64\n",
      " 1   Revenue      500 non-null    float64\n",
      "dtypes: float64(2)\n",
      "memory usage: 7.9 KB\n"
     ]
    }
   ],
   "source": [
    "df.info()"
   ]
  },
  {
   "cell_type": "markdown",
   "id": "2756bd0b",
   "metadata": {},
   "source": [
    "### 3.1.5) Summary of the dataset\n",
    "\n",
    "The described method will help to see how data has been spread for numerical values. We can clearly see the minimum value, mean values, different percentile values and maximum values."
   ]
  },
  {
   "cell_type": "code",
   "execution_count": 15,
   "id": "172129b5",
   "metadata": {},
   "outputs": [
    {
     "data": {
      "text/html": [
       "<div>\n",
       "<style scoped>\n",
       "    .dataframe tbody tr th:only-of-type {\n",
       "        vertical-align: middle;\n",
       "    }\n",
       "\n",
       "    .dataframe tbody tr th {\n",
       "        vertical-align: top;\n",
       "    }\n",
       "\n",
       "    .dataframe thead th {\n",
       "        text-align: right;\n",
       "    }\n",
       "</style>\n",
       "<table border=\"1\" class=\"dataframe\">\n",
       "  <thead>\n",
       "    <tr style=\"text-align: right;\">\n",
       "      <th></th>\n",
       "      <th>Temperature</th>\n",
       "      <th>Revenue</th>\n",
       "    </tr>\n",
       "  </thead>\n",
       "  <tbody>\n",
       "    <tr>\n",
       "      <th>count</th>\n",
       "      <td>500.000000</td>\n",
       "      <td>500.000000</td>\n",
       "    </tr>\n",
       "    <tr>\n",
       "      <th>mean</th>\n",
       "      <td>22.232225</td>\n",
       "      <td>521.570777</td>\n",
       "    </tr>\n",
       "    <tr>\n",
       "      <th>std</th>\n",
       "      <td>8.096388</td>\n",
       "      <td>175.404751</td>\n",
       "    </tr>\n",
       "    <tr>\n",
       "      <th>min</th>\n",
       "      <td>0.000000</td>\n",
       "      <td>10.000000</td>\n",
       "    </tr>\n",
       "    <tr>\n",
       "      <th>25%</th>\n",
       "      <td>17.122258</td>\n",
       "      <td>405.558681</td>\n",
       "    </tr>\n",
       "    <tr>\n",
       "      <th>50%</th>\n",
       "      <td>22.392791</td>\n",
       "      <td>529.368565</td>\n",
       "    </tr>\n",
       "    <tr>\n",
       "      <th>75%</th>\n",
       "      <td>27.740674</td>\n",
       "      <td>642.257922</td>\n",
       "    </tr>\n",
       "    <tr>\n",
       "      <th>max</th>\n",
       "      <td>45.000000</td>\n",
       "      <td>1000.000000</td>\n",
       "    </tr>\n",
       "  </tbody>\n",
       "</table>\n",
       "</div>"
      ],
      "text/plain": [
       "       Temperature      Revenue\n",
       "count   500.000000   500.000000\n",
       "mean     22.232225   521.570777\n",
       "std       8.096388   175.404751\n",
       "min       0.000000    10.000000\n",
       "25%      17.122258   405.558681\n",
       "50%      22.392791   529.368565\n",
       "75%      27.740674   642.257922\n",
       "max      45.000000  1000.000000"
      ]
     },
     "execution_count": 15,
     "metadata": {},
     "output_type": "execute_result"
    }
   ],
   "source": [
    "# Statistical summary\n",
    "df.describe()"
   ]
  },
  {
   "cell_type": "markdown",
   "id": "ea629d3d",
   "metadata": {},
   "source": [
    "### Check the Unique Lables in the categorical variables"
   ]
  },
  {
   "cell_type": "code",
   "execution_count": 18,
   "id": "a455f100",
   "metadata": {},
   "outputs": [
    {
     "data": {
      "text/plain": [
       "500"
      ]
     },
     "execution_count": 18,
     "metadata": {},
     "output_type": "execute_result"
    }
   ],
   "source": [
    "df['Temperature'].nunique()"
   ]
  },
  {
   "cell_type": "code",
   "execution_count": 19,
   "id": "018930c5",
   "metadata": {},
   "outputs": [
    {
     "data": {
      "text/plain": [
       "29.185045    1\n",
       "24.566884    1\n",
       "15.231190    1\n",
       "19.278672    1\n",
       "14.931506    1\n",
       "            ..\n",
       "15.118197    1\n",
       "15.588061    1\n",
       "38.668202    1\n",
       "24.727154    1\n",
       "27.188517    1\n",
       "Name: Temperature, Length: 500, dtype: int64"
      ]
     },
     "execution_count": 19,
     "metadata": {},
     "output_type": "execute_result"
    }
   ],
   "source": [
    "df['Temperature'].value_counts()"
   ]
  },
  {
   "cell_type": "code",
   "execution_count": 20,
   "id": "ba9213e1",
   "metadata": {},
   "outputs": [
    {
     "data": {
      "text/plain": [
       "array([ 534.7990284 ,  625.1901215 ,  660.6322888 ,  487.7069603 ,\n",
       "        316.2401944 ,  367.9407438 ,  308.8945179 ,  696.7166402 ,\n",
       "         55.39033824,  737.8008241 ,  325.9684084 ,   71.16015301,\n",
       "        467.4467066 ,  289.5409341 ,  905.4776043 ,  469.9090332 ,\n",
       "        648.2099977 ,  921.508275  ,  649.5611747 ,  534.6228653 ,\n",
       "        612.1539491 ,  353.3256334 ,  524.2361154 ,  374.231135  ,\n",
       "        523.1245467 ,  473.6043349 ,  402.4553204 ,  679.3177906 ,\n",
       "        517.5340283 ,  809.6720534 ,  528.3804165 ,  356.0980075 ,\n",
       "        237.7639106 ,  418.1372788 ,  809.4634112 ,  870.7659159 ,\n",
       "        550.2785159 ,  405.6614459 ,  740.9356848 ,  501.7329901 ,\n",
       "        539.6880057 ,  242.2362083 ,  421.621505  ,  358.0028493 ,\n",
       "        467.631063  ,  396.9356482 ,  500.9250645 ,  651.8615363 ,\n",
       "        451.4507843 ,  697.8339862 ,  190.7109408 ,  621.1897304 ,\n",
       "        666.1368355 ,  628.4532107 ,  219.3039932 ,  623.5988607 ,\n",
       "        749.3671543 ,  827.6848313 ,  303.7343815 ,  351.2888691 ,\n",
       "        381.5641352 ,  321.8482734 ,  774.1080813 ,  131.6570175 ,\n",
       "        498.7570498 ,  195.7357217 ,  496.0112948 ,  284.7727889 ,\n",
       "        483.4897686 ,  430.3439033 ,  276.787086  ,  627.2912952 ,\n",
       "        643.6486011 ,  623.2487008 ,  586.150568  ,  653.9867356 ,\n",
       "        918.3912316 ,  591.1733898 ,  651.1862423 ,  682.7528689 ,\n",
       "        372.9906055 ,  381.8030138 ,  515.4591017 ,  685.3623881 ,\n",
       "        654.7474611 ,  406.5792487 ,  643.9443266 ,  344.6887652 ,\n",
       "        642.2272909 ,  361.1191443 ,  704.2814391 ,  222.8723171 ,\n",
       "        543.5995933 ,  221.2232906 ,  337.1190252 ,  212.5917401 ,\n",
       "        474.7493924 ,  460.4025002 ,  343.3629045 ,  283.8343266 ,\n",
       "        468.9751034 ,  711.1740653 ,  322.592741  ,  401.4330183 ,\n",
       "        627.9018411 ,  415.8176744 ,  553.4452906 ,  362.5152155 ,\n",
       "        643.7883311 ,  651.5043041 ,  603.0371179 ,  427.2113597 ,\n",
       "        565.8749999 ,  733.215828  ,  385.6725008 ,  689.930778  ,\n",
       "        572.0812915 ,  719.4717014 ,  306.7499304 ,  596.2366902 ,\n",
       "        540.798122  ,  341.8593529 ,  655.4339792 ,  702.9017171 ,\n",
       "        319.3494624 ,  450.4732071 ,  382.0739541 ,  674.1506442 ,\n",
       "        731.5982226 ,  751.0545702 ,  496.0119175 ,  417.3548387 ,\n",
       "        448.4713348 ,  477.2950539 ,  158.8498064 ,  516.5486011 ,\n",
       "        599.3649136 ,  656.6365226 ,  507.35681   ,  279.866148  ,\n",
       "        841.1714271 ,  483.3330784 ,  739.3872716 ,  486.4749845 ,\n",
       "        456.524341  ,  241.2785475 ,  618.2357655 ,  446.9466515 ,\n",
       "        603.0913818 ,  274.0656189 ,  531.7424848 ,  297.4991195 ,\n",
       "        319.4029032 ,  493.7103332 ,  586.1387673 ,  497.7523178 ,\n",
       "        476.7945251 ,  625.8046425 ,  390.4033487 ,  675.8289158 ,\n",
       "        273.0733418 ,  280.5184674 ,  583.0844489 ,  648.5546445 ,\n",
       "        726.2337713 ,  335.8156867 ,  570.5778753 ,  685.6546554 ,\n",
       "        775.7228577 ,  773.9247547 ,  540.9775109 ,  366.2477143 ,\n",
       "        539.5277397 ,  809.7777259 ,  376.5544719 ,  477.8417185 ,\n",
       "        520.4703098 ,  654.1974057 ,  518.2161052 ,  782.0125497 ,\n",
       "        250.1317278 ,  634.5847506 ,  488.1708088 ,  520.8534562 ,\n",
       "        652.0054081 ,  383.9562396 ,  796.5176848 ,  293.9263927 ,\n",
       "        414.423028  ,  691.9580059 ,  339.1095829 ,  471.7015569 ,\n",
       "        499.4583433 ,  542.6080704 ,  401.9247923 ,  680.0271205 ,\n",
       "        258.2868099 ,  715.1246952 ,  608.9363452 ,  574.7106486 ,\n",
       "        615.9266502 ,  533.3243245 ,  578.3604354 ,  278.3098441 ,\n",
       "        186.4764868 ,  395.2737497 ,  537.113833  ,  228.9010303 ,\n",
       "        603.2329422 ,  272.8570213 ,  493.1154676 ,  612.8037704 ,\n",
       "        437.2519927 ,  506.4937476 ,  409.4938476 ,  562.7924633 ,\n",
       "        402.3984607 ,  532.05402   ,  413.9140669 ,  332.1501054 ,\n",
       "        563.3012801 ,  472.5493427 ,  596.9842407 ,  596.8891052 ,\n",
       "        268.9291794 ,  528.1162401 ,  627.6508336 ,  618.1720908 ,\n",
       "        850.2469822 ,  118.8121496 ,  278.0627594 ,  449.1128688 ,\n",
       "        448.9304429 ,  463.0656143 ,  474.832244  ,  824.9543567 ,\n",
       "        553.1196514 ,  696.6401775 ,  675.807151  ,  695.8512979 ,\n",
       "        288.1581451 ,  506.4321353 ,  618.4572771 ,  367.0523757 ,\n",
       "        191.6233119 ,  334.4337199 ,  583.7597813 ,  538.1796842 ,\n",
       "        394.1686196 ,  473.5681122 ,  427.1383693 ,  747.9632701 ,\n",
       "        212.4835594 ,  691.5165411 ,  632.901914  ,  448.5499609 ,\n",
       "        521.6728037 ,  437.8287103 ,  706.7246037 ,  405.2503868 ,\n",
       "        503.0842679 ,  570.9909316 ,  706.3649044 ,  543.9850584 ,\n",
       "        641.0253891 ,  274.6789209 ,  420.9664529 ,  145.6253019 ,\n",
       "        828.2960767 ,  594.8048712 ,  603.3053386 ,  651.486741  ,\n",
       "        607.5421478 ,  625.8464212 ,  535.8667293 ,  530.7482251 ,\n",
       "        535.7089203 ,  781.9837945 ,  797.566536  ,  521.2673794 ,\n",
       "        607.8391938 ,  534.3645388 ,  599.2782774 ,  662.5589903 ,\n",
       "        512.5881071 ,  574.4233102 ,  550.7014036 ,  554.7429738 ,\n",
       "        496.4613625 ,  350.6290364 ,  409.4028016 ,  631.3182368 ,\n",
       "        661.4675188 ,  642.3498137 ,  321.7500343 ,  412.0650006 ,\n",
       "        538.31289   ,  857.5266413 ,  425.2655958 ,  198.1215634 ,\n",
       "        170.2377561 ,  599.1163601 ,  558.636932  ,  550.4412717 ,\n",
       "        714.5600563 ,  526.7008607 ,  759.3774317 ,  441.5087331 ,\n",
       "        756.0377021 ,  542.8391063 ,  454.1892673 ,  335.1568558 ,\n",
       "        575.176896  ,  594.6510092 ,  621.9692088 ,  520.3924054 ,\n",
       "        587.2212461 ,  537.7661123 ,  639.5380115 ,  467.4023646 ,\n",
       "        374.9557024 ,  604.6266727 ,  463.4805082 ,  550.055216  ,\n",
       "        315.6465807 ,  223.4350161 ,  563.2509867 ,  489.3152348 ,\n",
       "        458.860905  ,  965.4930396 ,  689.8516908 ,  678.7513876 ,\n",
       "        379.5642675 ,  508.7204715 ,  684.8030705 ,  598.6761971 ,\n",
       "        416.8486183 ,  571.7642733 ,  771.7895369 ,  235.3646433 ,\n",
       "        579.3073878 ,  406.516091  ,  536.2081816 ,  249.8842521 ,\n",
       "        702.9940111 ,  335.770416  ,  807.5412872 ,  564.3105317 ,\n",
       "        856.3033039 ,  482.5719881 ,  436.9513113 ,  216.183462  ,\n",
       "        295.3396989 ,  594.1103517 ,  935.7172907 ,  648.4536093 ,\n",
       "        596.8767502 ,  498.2521461 ,  475.5382094 ,  384.6994155 ,\n",
       "        633.5040087 ,  659.8732869 ,  609.4174787 ,  199.5552938 ,\n",
       "        555.245217  ,  594.3116748 ,  572.5370483 ,  478.5985086 ,\n",
       "        563.3816326 ,  545.9039291 ,  444.8268017 ,   32.54661902,\n",
       "        506.2223794 ,  491.4304998 ,  559.1358692 ,  697.1474728 ,\n",
       "        798.0597179 ,  278.7319615 ,  594.8724701 ,  875.0193476 ,\n",
       "        513.8043817 ,  440.6778286 ,  410.860905  ,  256.772593  ,\n",
       "        583.8552306 ,  278.4182651 ,  851.3430963 ,  322.9839774 ,\n",
       "        221.400252  ,  819.1175879 ,  644.4886327 ,  283.6796571 ,\n",
       "        276.3733742 ,  402.7931738 ,  300.9322734 ,  690.7892959 ,\n",
       "        192.3419961 ,  546.6938576 ,  665.6726764 ,  750.4447328 ,\n",
       "        569.6187562 ,  916.648613  ,   10.        ,  572.6720474 ,\n",
       "        658.6004564 ,  242.5098553 ,  441.0029443 ,  702.6236136 ,\n",
       "        643.0909437 ,  818.135393  ,  493.2266364 ,  443.1136034 ,\n",
       "        323.9446718 ,  969.2916296 ,  658.5937316 ,  477.3151879 ,\n",
       "        425.0120182 ,  649.729072  ,  679.7120584 ,  505.7438672 ,\n",
       "        473.4996311 ,  405.9151588 ,  428.8543561 ,  800.2024937 ,\n",
       "        445.7723999 ,  450.708589  ,  617.1007232 ,  541.2936627 ,\n",
       "        654.8949545 ,  521.7754452 ,  603.3246306 ,  588.5275513 ,\n",
       "        634.1219776 ,  246.7871609 ,  640.1770588 ,  381.0433769 ,\n",
       "        390.8791194 ,  654.1293765 ,  412.082357  ,  264.123914  ,\n",
       "        684.1584437 ,  459.7353497 ,  615.1753845 ,  698.9718063 ,\n",
       "       1000.        ,  449.8133003 ,  322.888783  ,  493.4202188 ,\n",
       "        629.8937918 ,  452.6263171 ,  683.5447809 ,  537.6648006 ,\n",
       "        608.6299921 ,  746.9463889 ,  756.9625616 ,  491.2306027 ,\n",
       "        892.9477198 ,  646.2669458 ,  804.2600255 ,  526.5470649 ,\n",
       "        891.4136462 ,  636.298374  ,  297.0254137 ,  257.078777  ,\n",
       "        391.7152986 ,  494.6274373 ,  926.0671533 ,  612.2437215 ,\n",
       "        898.805423  ,  489.5690899 ,  291.7230401 ,  429.4357021 ,\n",
       "        500.0657787 ,  475.2133537 ,  530.356713  ,  453.7856066 ,\n",
       "        296.9065323 ,  682.8085663 ,  581.2620157 ,  432.8197952 ,\n",
       "        507.900282  ,  691.8554843 ,  448.3259814 ,  612.2419632 ,\n",
       "        188.1513313 ,  501.34533   ,  333.3342585 ,  793.079011  ,\n",
       "        379.318226  ,  581.0740052 ,  584.399945  ,  809.3525195 ,\n",
       "        552.8193512 ,  377.4309279 ,  571.4342569 ,  524.7463643 ,\n",
       "        755.8183987 ,  306.0907189 ,  566.2173038 ,  655.6603879 ])"
      ]
     },
     "execution_count": 20,
     "metadata": {},
     "output_type": "execute_result"
    }
   ],
   "source": [
    "df['Revenue'].uniqueque()"
   ]
  },
  {
   "cell_type": "code",
   "execution_count": 23,
   "id": "e8176e94",
   "metadata": {},
   "outputs": [
    {
     "data": {
      "text/plain": [
       "500"
      ]
     },
     "execution_count": 23,
     "metadata": {},
     "output_type": "execute_result"
    }
   ],
   "source": [
    "df['Revenue'].nunique()"
   ]
  },
  {
   "cell_type": "code",
   "execution_count": 21,
   "id": "53c241a2",
   "metadata": {},
   "outputs": [
    {
     "data": {
      "text/plain": [
       "621.969209    1\n",
       "654.197406    1\n",
       "278.418265    1\n",
       "401.433018    1\n",
       "501.732990    1\n",
       "             ..\n",
       "827.684831    1\n",
       "649.561175    1\n",
       "478.598509    1\n",
       "308.894518    1\n",
       "684.803070    1\n",
       "Name: Revenue, Length: 500, dtype: int64"
      ]
     },
     "execution_count": 21,
     "metadata": {},
     "output_type": "execute_result"
    }
   ],
   "source": [
    "df['Revenue'].value_counts()"
   ]
  },
  {
   "cell_type": "markdown",
   "id": "dad010e2",
   "metadata": {},
   "source": [
    "### 3.2) Data Cleaning"
   ]
  },
  {
   "cell_type": "markdown",
   "id": "af24429e",
   "metadata": {},
   "source": [
    "#### 3.2.1) Drop the Duplicates\n",
    "check is there any duplicates rows are exist then we should remove from the dataframe."
   ]
  },
  {
   "cell_type": "code",
   "execution_count": 25,
   "id": "65360ea3",
   "metadata": {},
   "outputs": [
    {
     "data": {
      "text/html": [
       "<div>\n",
       "<style scoped>\n",
       "    .dataframe tbody tr th:only-of-type {\n",
       "        vertical-align: middle;\n",
       "    }\n",
       "\n",
       "    .dataframe tbody tr th {\n",
       "        vertical-align: top;\n",
       "    }\n",
       "\n",
       "    .dataframe thead th {\n",
       "        text-align: right;\n",
       "    }\n",
       "</style>\n",
       "<table border=\"1\" class=\"dataframe\">\n",
       "  <thead>\n",
       "    <tr style=\"text-align: right;\">\n",
       "      <th></th>\n",
       "      <th>Temperature</th>\n",
       "      <th>Revenue</th>\n",
       "    </tr>\n",
       "  </thead>\n",
       "  <tbody>\n",
       "  </tbody>\n",
       "</table>\n",
       "</div>"
      ],
      "text/plain": [
       "Empty DataFrame\n",
       "Columns: [Temperature, Revenue]\n",
       "Index: []"
      ]
     },
     "execution_count": 25,
     "metadata": {},
     "output_type": "execute_result"
    }
   ],
   "source": [
    "df[df.duplicated()]"
   ]
  },
  {
   "cell_type": "markdown",
   "id": "a6afc152",
   "metadata": {},
   "source": [
    "    - 0 Duplicated Values "
   ]
  },
  {
   "cell_type": "markdown",
   "id": "5cd0bd49",
   "metadata": {},
   "source": [
    "### 3.2.2) Check the Null Values\n",
    "\n",
    "Using .isnull.sum() function we can see the null values present in the every column in the dataset."
   ]
  },
  {
   "cell_type": "code",
   "execution_count": 28,
   "id": "57cf4ea4",
   "metadata": {},
   "outputs": [
    {
     "data": {
      "text/plain": [
       "Temperature    0\n",
       "Revenue        0\n",
       "dtype: int64"
      ]
     },
     "execution_count": 28,
     "metadata": {},
     "output_type": "execute_result"
    }
   ],
   "source": [
    "# Count of null values\n",
    "# Check the missing values in any column \n",
    "# Display number of null values in every column in dataset\n",
    "\n",
    "df.isnull().sum()"
   ]
  },
  {
   "cell_type": "markdown",
   "id": "a878ceb7",
   "metadata": {},
   "source": [
    "There is no null values in the given dataset."
   ]
  },
  {
   "cell_type": "markdown",
   "id": "0e319fc2",
   "metadata": {},
   "source": [
    "### 4) Data Visualization\n",
    "\n",
    "#### 4.1) Histograms\n",
    "\n",
    "Histograms are one of the most common graphs used to display numeric data.   \n",
    "distribution of the data --- whether the data is normally distributed or if it's skewed (to the left or right)"
   ]
  },
  {
   "cell_type": "code",
   "execution_count": 33,
   "id": "6e8d416d",
   "metadata": {},
   "outputs": [
    {
     "data": {
      "image/png": "[encoded data removed]",
      "text/plain": [
       "<Figure size 720x216 with 2 Axes>"
      ]
     },
     "metadata": {
      "needs_background": "light"
     },
     "output_type": "display_data"
    }
   ],
   "source": [
    "# Histogram of each feature\n",
    "df.hist(bins=10,figsize=(10,3))\n",
    "plt.show()"
   ]
  },
  {
   "cell_type": "code",
   "execution_count": 34,
   "id": "3fbd4a8e",
   "metadata": {},
   "outputs": [
    {
     "data": {
      "text/plain": [
       "<AxesSubplot:xlabel='Revenue'>"
      ]
     },
     "execution_count": 34,
     "metadata": {},
     "output_type": "execute_result"
    },
    {
     "data": {
      "image/png": "[encoded data removed]",
      "text/plain": [
       "<Figure size 432x288 with 1 Axes>"
      ]
     },
     "metadata": {
      "needs_background": "light"
     },
     "output_type": "display_data"
    }
   ],
   "source": [
    "sns.boxplot(df.Revenue)"
   ]
  },
  {
   "cell_type": "code",
   "execution_count": 35,
   "id": "73072c54",
   "metadata": {},
   "outputs": [
    {
     "data": {
      "text/plain": [
       "<AxesSubplot:xlabel='Temperature'>"
      ]
     },
     "execution_count": 35,
     "metadata": {},
     "output_type": "execute_result"
    },
    {
     "data": {
      "image/png": "[encoded data removed]",
      "text/plain": [
       "<Figure size 432x288 with 1 Axes>"
      ]
     },
     "metadata": {
      "needs_background": "light"
     },
     "output_type": "display_data"
    }
   ],
   "source": [
    "sns.boxplot(df.Temperature)"
   ]
  },
  {
   "cell_type": "code",
   "execution_count": 38,
   "id": "4efa32f9",
   "metadata": {},
   "outputs": [
    {
     "data": {
      "text/plain": [
       "<AxesSubplot:xlabel='Temperature', ylabel='Revenue'>"
      ]
     },
     "execution_count": 38,
     "metadata": {},
     "output_type": "execute_result"
    },
    {
     "data": {
      "image/png": "[encoded data removed]",
      "text/plain": [
       "<Figure size 432x288 with 1 Axes>"
      ]
     },
     "metadata": {
      "needs_background": "light"
     },
     "output_type": "display_data"
    }
   ],
   "source": [
    "sns.scatterplot(x='Temperature',y='Revenue',data=df)"
   ]
  },
  {
   "cell_type": "code",
   "execution_count": 43,
   "id": "657a5ed3",
   "metadata": {},
   "outputs": [
    {
     "data": {
      "text/plain": [
       "<AxesSubplot:xlabel='Revenue', ylabel='Density'>"
      ]
     },
     "execution_count": 43,
     "metadata": {},
     "output_type": "execute_result"
    },
    {
     "data": {
      "image/png": "[encoded data removed]",
      "text/plain": [
       "<Figure size 432x288 with 1 Axes>"
      ]
     },
     "metadata": {
      "needs_background": "light"
     },
     "output_type": "display_data"
    }
   ],
   "source": [
    "sns.distplot(df['Revenue']) "
   ]
  },
  {
   "cell_type": "code",
   "execution_count": 42,
   "id": "d4489827",
   "metadata": {},
   "outputs": [
    {
     "data": {
      "text/plain": [
       "<AxesSubplot:xlabel='Revenue', ylabel='Density'>"
      ]
     },
     "execution_count": 42,
     "metadata": {},
     "output_type": "execute_result"
    },
    {
     "data": {
      "image/png": "[encoded data removed]",
      "text/plain": [
       "<Figure size 432x288 with 1 Axes>"
      ]
     },
     "metadata": {
      "needs_background": "light"
     },
     "output_type": "display_data"
    }
   ],
   "source": [
    "sns.distplot(np.log(df['Revenue']))"
   ]
  },
  {
   "cell_type": "code",
   "execution_count": 44,
   "id": "997a4213",
   "metadata": {},
   "outputs": [],
   "source": [
    "new_df=df.copy()"
   ]
  },
  {
   "cell_type": "code",
   "execution_count": null,
   "id": "146db0e1",
   "metadata": {},
   "outputs": [],
   "source": [
    "new_df['charges']=np.log(df['charges'])"
   ]
  },
  {
   "cell_type": "code",
   "execution_count": 45,
   "id": "ecc970b3",
   "metadata": {},
   "outputs": [
    {
     "data": {
      "text/html": [
       "<div>\n",
       "<style scoped>\n",
       "    .dataframe tbody tr th:only-of-type {\n",
       "        vertical-align: middle;\n",
       "    }\n",
       "\n",
       "    .dataframe tbody tr th {\n",
       "        vertical-align: top;\n",
       "    }\n",
       "\n",
       "    .dataframe thead th {\n",
       "        text-align: right;\n",
       "    }\n",
       "</style>\n",
       "<table border=\"1\" class=\"dataframe\">\n",
       "  <thead>\n",
       "    <tr style=\"text-align: right;\">\n",
       "      <th></th>\n",
       "      <th>Temperature</th>\n",
       "      <th>Revenue</th>\n",
       "    </tr>\n",
       "  </thead>\n",
       "  <tbody>\n",
       "    <tr>\n",
       "      <th>0</th>\n",
       "      <td>24.566884</td>\n",
       "      <td>534.799028</td>\n",
       "    </tr>\n",
       "    <tr>\n",
       "      <th>1</th>\n",
       "      <td>26.005191</td>\n",
       "      <td>625.190122</td>\n",
       "    </tr>\n",
       "    <tr>\n",
       "      <th>2</th>\n",
       "      <td>27.790554</td>\n",
       "      <td>660.632289</td>\n",
       "    </tr>\n",
       "    <tr>\n",
       "      <th>3</th>\n",
       "      <td>20.595335</td>\n",
       "      <td>487.706960</td>\n",
       "    </tr>\n",
       "    <tr>\n",
       "      <th>4</th>\n",
       "      <td>11.503498</td>\n",
       "      <td>316.240194</td>\n",
       "    </tr>\n",
       "  </tbody>\n",
       "</table>\n",
       "</div>"
      ],
      "text/plain": [
       "   Temperature     Revenue\n",
       "0    24.566884  534.799028\n",
       "1    26.005191  625.190122\n",
       "2    27.790554  660.632289\n",
       "3    20.595335  487.706960\n",
       "4    11.503498  316.240194"
      ]
     },
     "execution_count": 45,
     "metadata": {},
     "output_type": "execute_result"
    }
   ],
   "source": [
    "new_df.head()"
   ]
  },
  {
   "cell_type": "markdown",
   "id": "646a89db",
   "metadata": {},
   "source": [
    "#### 4.3) Scatter plot\n",
    "A Scatterplot is a type of graph which 'plots' the values along two axes, like age and height. Scatterplots are useful for many reasons. like correlation matrices, It allows you to quickly understand a relationship between two variables."
   ]
  },
  {
   "cell_type": "code",
   "execution_count": 46,
   "id": "93af50ff",
   "metadata": {},
   "outputs": [
    {
     "data": {
      "text/plain": [
       "<seaborn.axisgrid.PairGrid at 0x1ff7338bb20>"
      ]
     },
     "execution_count": 46,
     "metadata": {},
     "output_type": "execute_result"
    },
    {
     "data": {
      "image/png": "[encoded data removed]",
      "text/plain": [
       "<Figure size 360x360 with 6 Axes>"
      ]
     },
     "metadata": {
      "needs_background": "light"
     },
     "output_type": "display_data"
    }
   ],
   "source": [
    "# pairplot matrix    (for multiple scatter plot we use pairplot)\n",
    "sns.pairplot(new_df)"
   ]
  },
  {
   "cell_type": "markdown",
   "id": "042de82b",
   "metadata": {},
   "source": [
    "### - No need toperform any Fearure Engineering(Encoding Technique)\n",
    "       - Ex :- Get_Dummys"
   ]
  },
  {
   "cell_type": "code",
   "execution_count": 48,
   "id": "4dac94f7",
   "metadata": {},
   "outputs": [
    {
     "data": {
      "text/plain": [
       "(500, 2)"
      ]
     },
     "execution_count": 48,
     "metadata": {},
     "output_type": "execute_result"
    }
   ],
   "source": [
    "new_df.shape"
   ]
  },
  {
   "cell_type": "markdown",
   "id": "29ed7131",
   "metadata": {},
   "source": [
    "### 5) Split the dataframe into X & y"
   ]
  },
  {
   "cell_type": "code",
   "execution_count": 49,
   "id": "471c73f1",
   "metadata": {},
   "outputs": [],
   "source": [
    "# Separate object for target feature \n",
    "y = new_df['Revenue']\n",
    "\n",
    "# Separate object for Predictors \n",
    "X = new_df.drop('Revenue',axis=1)"
   ]
  },
  {
   "cell_type": "code",
   "execution_count": 53,
   "id": "9167442e",
   "metadata": {},
   "outputs": [
    {
     "data": {
      "text/plain": [
       "0    534.799028\n",
       "1    625.190122\n",
       "Name: Revenue, dtype: float64"
      ]
     },
     "execution_count": 53,
     "metadata": {},
     "output_type": "execute_result"
    }
   ],
   "source": [
    "y.head(2)"
   ]
  },
  {
   "cell_type": "code",
   "execution_count": 54,
   "id": "b4a2392a",
   "metadata": {},
   "outputs": [
    {
     "data": {
      "text/html": [
       "<div>\n",
       "<style scoped>\n",
       "    .dataframe tbody tr th:only-of-type {\n",
       "        vertical-align: middle;\n",
       "    }\n",
       "\n",
       "    .dataframe tbody tr th {\n",
       "        vertical-align: top;\n",
       "    }\n",
       "\n",
       "    .dataframe thead th {\n",
       "        text-align: right;\n",
       "    }\n",
       "</style>\n",
       "<table border=\"1\" class=\"dataframe\">\n",
       "  <thead>\n",
       "    <tr style=\"text-align: right;\">\n",
       "      <th></th>\n",
       "      <th>Temperature</th>\n",
       "    </tr>\n",
       "  </thead>\n",
       "  <tbody>\n",
       "    <tr>\n",
       "      <th>0</th>\n",
       "      <td>24.566884</td>\n",
       "    </tr>\n",
       "    <tr>\n",
       "      <th>1</th>\n",
       "      <td>26.005191</td>\n",
       "    </tr>\n",
       "  </tbody>\n",
       "</table>\n",
       "</div>"
      ],
      "text/plain": [
       "   Temperature\n",
       "0    24.566884\n",
       "1    26.005191"
      ]
     },
     "execution_count": 54,
     "metadata": {},
     "output_type": "execute_result"
    }
   ],
   "source": [
    "X.head(2)"
   ]
  },
  {
   "cell_type": "code",
   "execution_count": 55,
   "id": "43d7d7f6",
   "metadata": {},
   "outputs": [
    {
     "name": "stdout",
     "output_type": "stream",
     "text": [
      "X Shape = (500, 1) \n",
      "y Shape = (500,)\n"
     ]
    }
   ],
   "source": [
    "print('X Shape =',X.shape,'\\ny Shape =',y.shape)"
   ]
  },
  {
   "cell_type": "markdown",
   "id": "04e6cbe1",
   "metadata": {},
   "source": [
    "### 6) Train Test Split"
   ]
  },
  {
   "cell_type": "code",
   "execution_count": 57,
   "id": "4bd8371a",
   "metadata": {},
   "outputs": [],
   "source": [
    "from sklearn.model_selection import train_test_split      # to evaluate the performance of our ML Algorithms we can use train_test_split for any supervised ML\n",
    "X_train,X_test,y_train,y_test = train_test_split(X,y,test_size=0.2,random_state=0)"
   ]
  },
  {
   "cell_type": "code",
   "execution_count": 58,
   "id": "f6124dcc",
   "metadata": {},
   "outputs": [
    {
     "data": {
      "text/plain": [
       "((400, 1), (100, 1))"
      ]
     },
     "execution_count": 58,
     "metadata": {},
     "output_type": "execute_result"
    }
   ],
   "source": [
    "X_train.shape,X_test.shape"
   ]
  },
  {
   "cell_type": "code",
   "execution_count": 59,
   "id": "5b9a8613",
   "metadata": {},
   "outputs": [
    {
     "data": {
      "text/plain": [
       "((400,), (100,))"
      ]
     },
     "execution_count": 59,
     "metadata": {},
     "output_type": "execute_result"
    }
   ],
   "source": [
    "y_train.shape,y_test.shape"
   ]
  },
  {
   "cell_type": "markdown",
   "id": "6be5106b",
   "metadata": {},
   "source": [
    "### 7) Build the Regression Algorithm"
   ]
  },
  {
   "cell_type": "code",
   "execution_count": 60,
   "id": "020b83f7",
   "metadata": {},
   "outputs": [],
   "source": [
    "from sklearn.linear_model import LinearRegression\n",
    "lr = LinearRegression()\n",
    "lr.fit(X_train,y_train)\n",
    "y_pred = lr.predict(X_test)"
   ]
  },
  {
   "cell_type": "markdown",
   "id": "45ede50f",
   "metadata": {},
   "source": [
    "### Evaluation Metrics"
   ]
  },
  {
   "cell_type": "code",
   "execution_count": 61,
   "id": "335f32d7",
   "metadata": {},
   "outputs": [
    {
     "name": "stdout",
     "output_type": "stream",
     "text": [
      "Train Score =  0.9786044746360041\n"
     ]
    }
   ],
   "source": [
    "# Train Score\n",
    "train_score = lr.score(X_train,y_train)\n",
    "print('Train Score = ',train_score)"
   ]
  },
  {
   "cell_type": "code",
   "execution_count": 62,
   "id": "f81d813b",
   "metadata": {},
   "outputs": [
    {
     "name": "stdout",
     "output_type": "stream",
     "text": [
      "R2 Score = 0.9837324255882576\n"
     ]
    }
   ],
   "source": [
    "from sklearn.metrics import r2_score\n",
    "score = r2_score(y_test,y_pred)\n",
    "print('R2 Score =',score)"
   ]
  },
  {
   "cell_type": "code",
   "execution_count": 63,
   "id": "068b3e63",
   "metadata": {},
   "outputs": [
    {
     "name": "stdout",
     "output_type": "stream",
     "text": [
      "Mean Absolute Error = 18.3032135301029\n",
      "Mean Squared Error = 528.2150684519345\n",
      "Root Mean Squared Error = 22.982929936192523\n"
     ]
    }
   ],
   "source": [
    "from sklearn import metrics\n",
    "print('Mean Absolute Error =',metrics.mean_absolute_error(y_test,y_pred))\n",
    "print('Mean Squared Error =',metrics.mean_squared_error(y_test,y_pred))\n",
    "print('Root Mean Squared Error =',np.sqrt(metrics.mean_squared_error(y_test,y_pred)))"
   ]
  },
  {
   "cell_type": "code",
   "execution_count": 64,
   "id": "0f2b6f9c",
   "metadata": {},
   "outputs": [
    {
     "name": "stdout",
     "output_type": "stream",
     "text": [
      "Intercept = 9.845820182805832e+18\n"
     ]
    }
   ],
   "source": [
    "# To find the intercept \n",
    "print('Intercept =',np.exp(lr.intercept_))"
   ]
  },
  {
   "cell_type": "code",
   "execution_count": 65,
   "id": "0814cfea",
   "metadata": {},
   "outputs": [
    {
     "name": "stdout",
     "output_type": "stream",
     "text": [
      "coefficients = [2.20367179e+09]\n"
     ]
    }
   ],
   "source": [
    "# To find the co-efficients\n",
    "print('coefficients =',np.exp(lr.coef_))"
   ]
  },
  {
   "cell_type": "code",
   "execution_count": 66,
   "id": "b5b39ea3",
   "metadata": {},
   "outputs": [
    {
     "data": {
      "text/html": [
       "<div>\n",
       "<style scoped>\n",
       "    .dataframe tbody tr th:only-of-type {\n",
       "        vertical-align: middle;\n",
       "    }\n",
       "\n",
       "    .dataframe tbody tr th {\n",
       "        vertical-align: top;\n",
       "    }\n",
       "\n",
       "    .dataframe thead th {\n",
       "        text-align: right;\n",
       "    }\n",
       "</style>\n",
       "<table border=\"1\" class=\"dataframe\">\n",
       "  <thead>\n",
       "    <tr style=\"text-align: right;\">\n",
       "      <th></th>\n",
       "      <th>Actual</th>\n",
       "      <th>Predicted</th>\n",
       "      <th>Variance</th>\n",
       "    </tr>\n",
       "  </thead>\n",
       "  <tbody>\n",
       "    <tr>\n",
       "      <th>90</th>\n",
       "      <td>7.337409e+305</td>\n",
       "      <td>1.925667e+303</td>\n",
       "      <td>7.318152e+305</td>\n",
       "    </tr>\n",
       "    <tr>\n",
       "      <th>254</th>\n",
       "      <td>7.341906e+274</td>\n",
       "      <td>5.428865e+283</td>\n",
       "      <td>-5.428865e+283</td>\n",
       "    </tr>\n",
       "    <tr>\n",
       "      <th>283</th>\n",
       "      <td>5.568182e+287</td>\n",
       "      <td>4.883039e+288</td>\n",
       "      <td>-4.326221e+288</td>\n",
       "    </tr>\n",
       "    <tr>\n",
       "      <th>445</th>\n",
       "      <td>2.246126e+195</td>\n",
       "      <td>4.550292e+195</td>\n",
       "      <td>-2.304165e+195</td>\n",
       "    </tr>\n",
       "    <tr>\n",
       "      <th>461</th>\n",
       "      <td>2.192162e+276</td>\n",
       "      <td>1.027990e+289</td>\n",
       "      <td>-1.027990e+289</td>\n",
       "    </tr>\n",
       "    <tr>\n",
       "      <th>...</th>\n",
       "      <td>...</td>\n",
       "      <td>...</td>\n",
       "      <td>...</td>\n",
       "    </tr>\n",
       "    <tr>\n",
       "      <th>372</th>\n",
       "      <td>7.072712e+219</td>\n",
       "      <td>1.931721e+202</td>\n",
       "      <td>7.072712e+219</td>\n",
       "    </tr>\n",
       "    <tr>\n",
       "      <th>56</th>\n",
       "      <td>inf</td>\n",
       "      <td>inf</td>\n",
       "      <td>NaN</td>\n",
       "    </tr>\n",
       "    <tr>\n",
       "      <th>440</th>\n",
       "      <td>1.337325e+297</td>\n",
       "      <td>inf</td>\n",
       "      <td>-inf</td>\n",
       "    </tr>\n",
       "    <tr>\n",
       "      <th>60</th>\n",
       "      <td>5.142785e+165</td>\n",
       "      <td>2.043694e+171</td>\n",
       "      <td>-2.043688e+171</td>\n",
       "    </tr>\n",
       "    <tr>\n",
       "      <th>208</th>\n",
       "      <td>9.566170e+261</td>\n",
       "      <td>1.009026e+243</td>\n",
       "      <td>9.566170e+261</td>\n",
       "    </tr>\n",
       "  </tbody>\n",
       "</table>\n",
       "<p>100 rows × 3 columns</p>\n",
       "</div>"
      ],
      "text/plain": [
       "            Actual      Predicted       Variance\n",
       "90   7.337409e+305  1.925667e+303  7.318152e+305\n",
       "254  7.341906e+274  5.428865e+283 -5.428865e+283\n",
       "283  5.568182e+287  4.883039e+288 -4.326221e+288\n",
       "445  2.246126e+195  4.550292e+195 -2.304165e+195\n",
       "461  2.192162e+276  1.027990e+289 -1.027990e+289\n",
       "..             ...            ...            ...\n",
       "372  7.072712e+219  1.931721e+202  7.072712e+219\n",
       "56             inf            inf            NaN\n",
       "440  1.337325e+297            inf           -inf\n",
       "60   5.142785e+165  2.043694e+171 -2.043688e+171\n",
       "208  9.566170e+261  1.009026e+243  9.566170e+261\n",
       "\n",
       "[100 rows x 3 columns]"
      ]
     },
     "execution_count": 66,
     "metadata": {},
     "output_type": "execute_result"
    }
   ],
   "source": [
    "pd.DataFrame({'Actual':np.exp(y_test),'Predicted':np.exp(y_pred),'Variance':np.exp(y_test)-np.exp(y_pred)})"
   ]
  }
 ],
 "metadata": {
  "kernelspec": {
   "display_name": "Python 3",
   "language": "python",
   "name": "python3"
  },
  "language_info": {
   "codemirror_mode": {
    "name": "ipython",
    "version": 3
   },
   "file_extension": ".py",
   "mimetype": "text/x-python",
   "name": "python",
   "nbconvert_exporter": "python",
   "pygments_lexer": "ipython3",
   "version": "3.8.8"
  }
 },
 "nbformat": 4,
 "nbformat_minor": 5
}
